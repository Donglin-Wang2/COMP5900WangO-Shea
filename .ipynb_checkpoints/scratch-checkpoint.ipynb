{
 "cells": [
  {
   "cell_type": "code",
   "execution_count": 6,
   "id": "unable-ranking",
   "metadata": {},
   "outputs": [],
   "source": [
    "import numpy as np"
   ]
  },
  {
   "cell_type": "code",
   "execution_count": 13,
   "id": "square-wright",
   "metadata": {},
   "outputs": [
    {
     "name": "stdout",
     "output_type": "stream",
     "text": [
      "False\n"
     ]
    }
   ],
   "source": [
    "model_type = 'vanilla'\n",
    "model = 'inception'\n",
    "\n",
    "van_inc = np.load(f'data/CIFAR100_vae_{model_type}_{model}_encoding_train.npy')\n",
    "print(np.isnan(van_inc).any())"
   ]
  },
  {
   "cell_type": "code",
   "execution_count": 14,
   "id": "prospective-interpretation",
   "metadata": {},
   "outputs": [
    {
     "name": "stdout",
     "output_type": "stream",
     "text": [
      "False\n"
     ]
    }
   ],
   "source": [
    "model_type = 'adapted'\n",
    "model = 'inception'\n",
    "\n",
    "van_ad = np.load(f'data/CIFAR100_vae_{model_type}_{model}_encoding_train.npy')\n",
    "print(np.isnan(van_ad).any())"
   ]
  },
  {
   "cell_type": "code",
   "execution_count": 15,
   "id": "informed-dynamics",
   "metadata": {},
   "outputs": [
    {
     "name": "stdout",
     "output_type": "stream",
     "text": [
      "False\n"
     ]
    }
   ],
   "source": [
    "model_type = 'injected'\n",
    "model = 'inception'\n",
    "\n",
    "van_inj = np.load(f'data/CIFAR100_vae_{model_type}_{model}_encoding_train.npy')\n",
    "print(np.isnan(van_inj).any())"
   ]
  },
  {
   "cell_type": "code",
   "execution_count": null,
   "id": "further-universe",
   "metadata": {},
   "outputs": [],
   "source": []
  }
 ],
 "metadata": {
  "kernelspec": {
   "display_name": "Python 3",
   "language": "python",
   "name": "python3"
  },
  "language_info": {
   "codemirror_mode": {
    "name": "ipython",
    "version": 3
   },
   "file_extension": ".py",
   "mimetype": "text/x-python",
   "name": "python",
   "nbconvert_exporter": "python",
   "pygments_lexer": "ipython3",
   "version": "3.8.8"
  }
 },
 "nbformat": 4,
 "nbformat_minor": 5
}
