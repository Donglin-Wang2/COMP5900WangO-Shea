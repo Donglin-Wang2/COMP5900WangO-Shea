{
 "cells": [
  {
   "cell_type": "code",
   "execution_count": 1,
   "metadata": {},
   "outputs": [],
   "source": [
    "import numpy as np\n",
    "import matplotlib.pyplot as plt\n",
    "import tensorflow as tf\n",
    "\n",
    "gpus = tf.config.experimental.list_physical_devices('GPU')\n",
    "for gpu in gpus: tf.config.experimental.set_memory_growth(gpu, True)\n",
    "    \n",
    "from tensorflow.keras import datasets\n",
    "from tensorflow.keras.models import Sequential\n",
    "from tensorflow.keras.optimizers import Adam\n",
    "from tensorflow.keras.losses import SparseCategoricalCrossentropy\n",
    "from tensorflow.keras.applications import InceptionV3\n",
    "from tensorflow.keras.callbacks import EarlyStopping\n",
    "from tensorflow.keras.layers import Conv2D, Flatten, Dense, Conv2DTranspose, Reshape, Layer, Input"
   ]
  },
  {
   "cell_type": "code",
   "execution_count": 2,
   "metadata": {},
   "outputs": [
    {
     "name": "stdout",
     "output_type": "stream",
     "text": [
      "(50000, 512)\n",
      "(50000, 512)\n",
      "(50000, 512)\n",
      "(50000, 512)\n"
     ]
    }
   ],
   "source": [
    "model_name = 'vgg'\n",
    "\n",
    "cifar100_model_feat = np.load(f'./data/CIFAR100_{model_name}_train_feat.npy')\n",
    "print(cifar100_model_feat.shape)\n",
    "\n",
    "cifar100_vanilla = np.load(f'./data/CIFAR100_vae_vanilla_{model_name}_encoding_train.npy')\n",
    "print(cifar100_vanilla.shape)\n",
    "\n",
    "cifar100_injected = np.load(f'./data/CIFAR100_vae_injected_{model_name}_encoding_train.npy')\n",
    "print(cifar100_injected.shape)\n",
    "\n",
    "cifar100_adapted = np.load(f'./data/CIFAR100_vae_adapted_{model_name}_encoding_train.npy')\n",
    "print(cifar100_adapted.shape)\n",
    "\n",
    "(train_images, train_labels), (test_images, test_labels) = datasets.cifar100.load_data()"
   ]
  },
  {
   "cell_type": "code",
   "execution_count": 3,
   "metadata": {},
   "outputs": [
    {
     "name": "stdout",
     "output_type": "stream",
     "text": [
      "502.65604\n"
     ]
    }
   ],
   "source": [
    "vgg_feat = np.load(f'data/CIFAR100_vgg_train_feat.npy')\n",
    "print(vgg_feat.max())"
   ]
  },
  {
   "cell_type": "code",
   "execution_count": 4,
   "metadata": {},
   "outputs": [
    {
     "name": "stdout",
     "output_type": "stream",
     "text": [
      "27.906494\n"
     ]
    }
   ],
   "source": [
    "vgg_feat = np.load(f'data/CIFAR100_inception_train_feat.npy')\n",
    "print(vgg_feat.max())"
   ]
  },
  {
   "cell_type": "code",
   "execution_count": 5,
   "metadata": {},
   "outputs": [],
   "source": [
    "input_shape = (cifar100_model_feat.shape[1],)\n",
    "batch_size = 128\n",
    "epochs = 100\n",
    "val_split=0.2\n",
    "callbacks = [EarlyStopping(patience=10)]"
   ]
  },
  {
   "cell_type": "code",
   "execution_count": 6,
   "metadata": {
    "tags": []
   },
   "outputs": [
    {
     "name": "stdout",
     "output_type": "stream",
     "text": [
      "Model: \"vgg\"\n",
      "_________________________________________________________________\n",
      "Layer (type)                 Output Shape              Param #   \n",
      "=================================================================\n",
      "dense (Dense)                (None, 512)               262656    \n",
      "_________________________________________________________________\n",
      "dense_1 (Dense)              (None, 256)               131328    \n",
      "_________________________________________________________________\n",
      "dense_2 (Dense)              (None, 128)               32896     \n",
      "_________________________________________________________________\n",
      "dense_3 (Dense)              (None, 100)               12900     \n",
      "=================================================================\n",
      "Total params: 439,780\n",
      "Trainable params: 439,780\n",
      "Non-trainable params: 0\n",
      "_________________________________________________________________\n",
      "Epoch 1/100\n",
      "313/313 [==============================] - 6s 15ms/step - loss: 6.8393 - accuracy: 0.0299 - val_loss: 4.1982 - val_accuracy: 0.0929\n",
      "Epoch 2/100\n",
      "313/313 [==============================] - 4s 12ms/step - loss: 3.9752 - accuracy: 0.1334 - val_loss: 3.7441 - val_accuracy: 0.1780\n",
      "Epoch 3/100\n",
      "313/313 [==============================] - 4s 12ms/step - loss: 3.4324 - accuracy: 0.2259 - val_loss: 3.4170 - val_accuracy: 0.2306\n",
      "Epoch 4/100\n",
      "313/313 [==============================] - 4s 12ms/step - loss: 2.9963 - accuracy: 0.2985 - val_loss: 3.1953 - val_accuracy: 0.2657\n",
      "Epoch 5/100\n",
      "313/313 [==============================] - 4s 12ms/step - loss: 2.6983 - accuracy: 0.3479 - val_loss: 3.0794 - val_accuracy: 0.2800\n",
      "Epoch 6/100\n",
      "313/313 [==============================] - 4s 13ms/step - loss: 2.4635 - accuracy: 0.3954 - val_loss: 2.9873 - val_accuracy: 0.2987\n",
      "Epoch 7/100\n",
      "313/313 [==============================] - 4s 12ms/step - loss: 2.2630 - accuracy: 0.4363 - val_loss: 2.9469 - val_accuracy: 0.3055\n",
      "Epoch 8/100\n",
      "313/313 [==============================] - 4s 12ms/step - loss: 2.1159 - accuracy: 0.4647 - val_loss: 2.9077 - val_accuracy: 0.3161\n",
      "Epoch 9/100\n",
      "313/313 [==============================] - 4s 12ms/step - loss: 1.9749 - accuracy: 0.4993 - val_loss: 2.8905 - val_accuracy: 0.3208\n",
      "Epoch 10/100\n",
      "313/313 [==============================] - 4s 12ms/step - loss: 1.8315 - accuracy: 0.5270 - val_loss: 2.8763 - val_accuracy: 0.3284\n",
      "Epoch 11/100\n",
      "313/313 [==============================] - 4s 12ms/step - loss: 1.7272 - accuracy: 0.5623 - val_loss: 2.8750 - val_accuracy: 0.3290\n",
      "Epoch 12/100\n",
      "313/313 [==============================] - 4s 13ms/step - loss: 1.6229 - accuracy: 0.5811 - val_loss: 2.8870 - val_accuracy: 0.3330\n",
      "Epoch 13/100\n",
      "313/313 [==============================] - 4s 13ms/step - loss: 1.5089 - accuracy: 0.6144 - val_loss: 2.8906 - val_accuracy: 0.3333\n",
      "Epoch 14/100\n",
      "313/313 [==============================] - 4s 12ms/step - loss: 1.4240 - accuracy: 0.6368 - val_loss: 2.9123 - val_accuracy: 0.3343\n",
      "Epoch 15/100\n",
      "313/313 [==============================] - 4s 12ms/step - loss: 1.3341 - accuracy: 0.6604 - val_loss: 2.9393 - val_accuracy: 0.3408\n",
      "Epoch 16/100\n",
      "313/313 [==============================] - 4s 14ms/step - loss: 1.2560 - accuracy: 0.6801 - val_loss: 2.9770 - val_accuracy: 0.3364\n",
      "Epoch 17/100\n",
      "313/313 [==============================] - 4s 13ms/step - loss: 1.1666 - accuracy: 0.7058 - val_loss: 3.0145 - val_accuracy: 0.3384\n",
      "Epoch 18/100\n",
      "313/313 [==============================] - 4s 12ms/step - loss: 1.0842 - accuracy: 0.7318 - val_loss: 3.0501 - val_accuracy: 0.3391\n",
      "Epoch 19/100\n",
      "313/313 [==============================] - 4s 12ms/step - loss: 1.0223 - accuracy: 0.7497 - val_loss: 3.0945 - val_accuracy: 0.3376\n",
      "Epoch 20/100\n",
      "313/313 [==============================] - 4s 12ms/step - loss: 0.9388 - accuracy: 0.7752 - val_loss: 3.1354 - val_accuracy: 0.3369\n",
      "Epoch 21/100\n",
      "313/313 [==============================] - 4s 13ms/step - loss: 0.8809 - accuracy: 0.7918 - val_loss: 3.1835 - val_accuracy: 0.3347\n"
     ]
    },
    {
     "data": {
      "text/plain": [
       "<tensorflow.python.keras.callbacks.History at 0x1c987abfbb0>"
      ]
     },
     "execution_count": 6,
     "metadata": {},
     "output_type": "execute_result"
    }
   ],
   "source": [
    "model = Sequential( [\n",
    "    Input(shape=input_shape),\n",
    "    Dense(512, activation='relu'),\n",
    "    Dense(256, activation='relu'),\n",
    "    Dense(128, activation='relu'),\n",
    "    Dense(100, activation='softmax')\n",
    "], name=model_name)\n",
    "\n",
    "model.compile(\n",
    "    optimizer=Adam(lr=1e-4),  \n",
    "    loss=SparseCategoricalCrossentropy(from_logits=True),\n",
    "    metrics=['accuracy']\n",
    ")\n",
    "\n",
    "model.summary()\n",
    "\n",
    "model.fit(\n",
    "    x=cifar100_model_feat, \n",
    "    y=train_labels, \n",
    "    batch_size=batch_size, \n",
    "    epochs=epochs,\n",
    ")"
   ]
  },
  {
   "cell_type": "code",
   "execution_count": 7,
   "metadata": {},
   "outputs": [
    {
     "name": "stdout",
     "output_type": "stream",
     "text": [
      "Model: \"vanilla\"\n",
      "_________________________________________________________________\n",
      "Layer (type)                 Output Shape              Param #   \n",
      "=================================================================\n",
      "dense_4 (Dense)              (None, 512)               262656    \n",
      "_________________________________________________________________\n",
      "dense_5 (Dense)              (None, 256)               131328    \n",
      "_________________________________________________________________\n",
      "dense_6 (Dense)              (None, 128)               32896     \n",
      "_________________________________________________________________\n",
      "dense_7 (Dense)              (None, 100)               12900     \n",
      "=================================================================\n",
      "Total params: 439,780\n",
      "Trainable params: 439,780\n",
      "Non-trainable params: 0\n",
      "_________________________________________________________________\n",
      "Epoch 1/100\n",
      "313/313 [==============================] - 4s 13ms/step - loss: 4.6657 - accuracy: 0.0111 - val_loss: 4.6024 - val_accuracy: 0.0171\n",
      "Epoch 2/100\n",
      "313/313 [==============================] - 4s 12ms/step - loss: 4.5457 - accuracy: 0.0237 - val_loss: 4.5453 - val_accuracy: 0.0265\n",
      "Epoch 3/100\n",
      "313/313 [==============================] - 4s 13ms/step - loss: 4.4081 - accuracy: 0.0412 - val_loss: 4.4721 - val_accuracy: 0.0338\n",
      "Epoch 4/100\n",
      "313/313 [==============================] - 4s 13ms/step - loss: 4.2555 - accuracy: 0.0620 - val_loss: 4.4343 - val_accuracy: 0.0372\n",
      "Epoch 5/100\n",
      "313/313 [==============================] - 4s 13ms/step - loss: 4.1157 - accuracy: 0.0838 - val_loss: 4.4165 - val_accuracy: 0.0402\n",
      "Epoch 6/100\n",
      "313/313 [==============================] - 4s 13ms/step - loss: 3.9896 - accuracy: 0.1049 - val_loss: 4.4141 - val_accuracy: 0.0419\n",
      "Epoch 7/100\n",
      "313/313 [==============================] - 4s 14ms/step - loss: 3.8748 - accuracy: 0.1246 - val_loss: 4.4230 - val_accuracy: 0.0424\n",
      "Epoch 8/100\n",
      "313/313 [==============================] - 4s 12ms/step - loss: 3.7754 - accuracy: 0.1487 - val_loss: 4.4395 - val_accuracy: 0.0437\n",
      "Epoch 9/100\n",
      "313/313 [==============================] - 4s 12ms/step - loss: 3.6717 - accuracy: 0.1664 - val_loss: 4.4616 - val_accuracy: 0.0463\n",
      "Epoch 10/100\n",
      "313/313 [==============================] - 4s 13ms/step - loss: 3.5617 - accuracy: 0.1874 - val_loss: 4.4903 - val_accuracy: 0.0451\n",
      "Epoch 11/100\n",
      "313/313 [==============================] - 4s 12ms/step - loss: 3.4499 - accuracy: 0.2122 - val_loss: 4.5195 - val_accuracy: 0.0438\n",
      "Epoch 12/100\n",
      "313/313 [==============================] - 4s 13ms/step - loss: 3.3579 - accuracy: 0.2286 - val_loss: 4.5540 - val_accuracy: 0.0443\n",
      "Epoch 13/100\n",
      "313/313 [==============================] - 4s 12ms/step - loss: 3.2598 - accuracy: 0.2479 - val_loss: 4.5901 - val_accuracy: 0.0427\n",
      "Epoch 14/100\n",
      "313/313 [==============================] - 4s 12ms/step - loss: 3.1634 - accuracy: 0.2700 - val_loss: 4.6289 - val_accuracy: 0.0421\n",
      "Epoch 15/100\n",
      "313/313 [==============================] - 4s 12ms/step - loss: 3.0741 - accuracy: 0.2911 - val_loss: 4.6760 - val_accuracy: 0.0434\n",
      "Epoch 16/100\n",
      "313/313 [==============================] - 4s 12ms/step - loss: 2.9621 - accuracy: 0.3164 - val_loss: 4.7206 - val_accuracy: 0.0426\n"
     ]
    },
    {
     "data": {
      "text/plain": [
       "<tensorflow.python.keras.callbacks.History at 0x1c9e447cbb0>"
      ]
     },
     "execution_count": 7,
     "metadata": {},
     "output_type": "execute_result"
    }
   ],
   "source": [
    "vanilla_model = Sequential([\n",
    "    Input(shape=input_shape),\n",
    "    Dense(512, activation='relu'),\n",
    "    Dense(256, activation='relu'),\n",
    "    Dense(128, activation='relu'),\n",
    "    Dense(100, activation='softmax')\n",
    "], name='vanilla')\n",
    "\n",
    "vanilla_model.compile(\n",
    "    optimizer=Adam(lr=1e-4),\n",
    "    loss=SparseCategoricalCrossentropy(from_logits=True),\n",
    "    metrics=['accuracy']\n",
    ")\n",
    "\n",
    "vanilla_model.summary()\n",
    "\n",
    "vanilla_model.fit(\n",
    "    x=cifar100_vanilla, \n",
    "    y=train_labels, \n",
    "    batch_size=batch_size, \n",
    "    epochs=epochs,\n",
    ")"
   ]
  },
  {
   "cell_type": "code",
   "execution_count": 8,
   "metadata": {},
   "outputs": [
    {
     "name": "stdout",
     "output_type": "stream",
     "text": [
      "Model: \"injected\"\n",
      "_________________________________________________________________\n",
      "Layer (type)                 Output Shape              Param #   \n",
      "=================================================================\n",
      "dense_8 (Dense)              (None, 512)               262656    \n",
      "_________________________________________________________________\n",
      "dense_9 (Dense)              (None, 256)               131328    \n",
      "_________________________________________________________________\n",
      "dense_10 (Dense)             (None, 128)               32896     \n",
      "_________________________________________________________________\n",
      "dense_11 (Dense)             (None, 100)               12900     \n",
      "=================================================================\n",
      "Total params: 439,780\n",
      "Trainable params: 439,780\n",
      "Non-trainable params: 0\n",
      "_________________________________________________________________\n",
      "Epoch 1/100\n",
      "313/313 [==============================] - 4s 13ms/step - loss: 93.5481 - accuracy: 0.0124 - val_loss: 75.5469 - val_accuracy: 0.0170\n",
      "Epoch 2/100\n",
      "313/313 [==============================] - 4s 13ms/step - loss: 22.6572 - accuracy: 0.0178 - val_loss: 66.6839 - val_accuracy: 0.0182\n",
      "Epoch 3/100\n",
      "313/313 [==============================] - 4s 12ms/step - loss: 272.6412 - accuracy: 0.0234 - val_loss: 58.4264 - val_accuracy: 0.0219\n",
      "Epoch 4/100\n",
      "313/313 [==============================] - 4s 12ms/step - loss: 20.3561 - accuracy: 0.0315 - val_loss: 44.1661 - val_accuracy: 0.0211\n",
      "Epoch 5/100\n",
      "313/313 [==============================] - 4s 12ms/step - loss: 16.3541 - accuracy: 0.0414 - val_loss: 35.2008 - val_accuracy: 0.0240\n",
      "Epoch 6/100\n",
      "313/313 [==============================] - 4s 13ms/step - loss: 17.0227 - accuracy: 0.0453 - val_loss: 47.5013 - val_accuracy: 0.0264\n",
      "Epoch 7/100\n",
      "313/313 [==============================] - 4s 12ms/step - loss: 16.3080 - accuracy: 0.0466 - val_loss: 56.5971 - val_accuracy: 0.0294\n",
      "Epoch 8/100\n",
      "313/313 [==============================] - 4s 12ms/step - loss: 51.1715 - accuracy: 0.0541 - val_loss: 60.1433 - val_accuracy: 0.0300\n",
      "Epoch 9/100\n",
      "313/313 [==============================] - 4s 13ms/step - loss: 14.4308 - accuracy: 0.0619 - val_loss: 46.7202 - val_accuracy: 0.0340\n",
      "Epoch 10/100\n",
      "313/313 [==============================] - 4s 13ms/step - loss: 181.0053 - accuracy: 0.0642 - val_loss: 44.9591 - val_accuracy: 0.0377\n",
      "Epoch 11/100\n",
      "313/313 [==============================] - 4s 13ms/step - loss: 24.2138 - accuracy: 0.0770 - val_loss: 35.2069 - val_accuracy: 0.0408\n",
      "Epoch 12/100\n",
      "313/313 [==============================] - 4s 12ms/step - loss: 12.3572 - accuracy: 0.0865 - val_loss: 37.9038 - val_accuracy: 0.0468\n",
      "Epoch 13/100\n",
      "313/313 [==============================] - 4s 13ms/step - loss: 9.9564 - accuracy: 0.0932 - val_loss: 36.4636 - val_accuracy: 0.0498\n",
      "Epoch 14/100\n",
      "313/313 [==============================] - 4s 13ms/step - loss: 19.1801 - accuracy: 0.1045 - val_loss: 59.0656 - val_accuracy: 0.0513\n",
      "Epoch 15/100\n",
      "313/313 [==============================] - 4s 13ms/step - loss: 15.9303 - accuracy: 0.1100 - val_loss: 50.1283 - val_accuracy: 0.0544\n"
     ]
    },
    {
     "data": {
      "text/plain": [
       "<tensorflow.python.keras.callbacks.History at 0x1ca08dac1f0>"
      ]
     },
     "execution_count": 8,
     "metadata": {},
     "output_type": "execute_result"
    }
   ],
   "source": [
    "injected_model = tf.keras.Sequential([\n",
    "    Input(shape=input_shape),\n",
    "    Dense(512, activation='relu'),\n",
    "    Dense(256, activation='relu'),\n",
    "    Dense(128, activation='relu'),\n",
    "    Dense(100, activation='softmax')\n",
    "], name='injected')\n",
    "\n",
    "injected_model.compile(\n",
    "    optimizer=Adam(lr=1e-4),\n",
    "    loss=SparseCategoricalCrossentropy(from_logits=True),\n",
    "    metrics=['accuracy']\n",
    ")\n",
    "\n",
    "injected_model.summary()\n",
    "\n",
    "injected_model.fit(\n",
    "    x=cifar100_injected, \n",
    "    y=train_labels, \n",
    "    batch_size=batch_size, \n",
    "    epochs=epochs,\n",
    ")"
   ]
  },
  {
   "cell_type": "code",
   "execution_count": 9,
   "metadata": {},
   "outputs": [
    {
     "name": "stdout",
     "output_type": "stream",
     "text": [
      "Model: \"adapted\"\n",
      "_________________________________________________________________\n",
      "Layer (type)                 Output Shape              Param #   \n",
      "=================================================================\n",
      "dense_12 (Dense)             (None, 512)               262656    \n",
      "_________________________________________________________________\n",
      "dense_13 (Dense)             (None, 256)               131328    \n",
      "_________________________________________________________________\n",
      "dense_14 (Dense)             (None, 128)               32896     \n",
      "_________________________________________________________________\n",
      "dense_15 (Dense)             (None, 100)               12900     \n",
      "=================================================================\n",
      "Total params: 439,780\n",
      "Trainable params: 439,780\n",
      "Non-trainable params: 0\n",
      "_________________________________________________________________\n",
      "Epoch 1/100\n",
      "313/313 [==============================] - 4s 13ms/step - loss: nan - accuracy: 0.0100 - val_loss: nan - val_accuracy: 0.0103\n",
      "Epoch 2/100\n",
      "313/313 [==============================] - 4s 12ms/step - loss: nan - accuracy: 0.0104 - val_loss: nan - val_accuracy: 0.0103\n",
      "Epoch 3/100\n",
      "313/313 [==============================] - 4s 12ms/step - loss: nan - accuracy: 0.0098 - val_loss: nan - val_accuracy: 0.0103\n",
      "Epoch 4/100\n",
      "313/313 [==============================] - 4s 12ms/step - loss: nan - accuracy: 0.0099 - val_loss: nan - val_accuracy: 0.0103\n",
      "Epoch 5/100\n",
      "313/313 [==============================] - 4s 12ms/step - loss: nan - accuracy: 0.0103 - val_loss: nan - val_accuracy: 0.0103\n",
      "Epoch 6/100\n",
      "313/313 [==============================] - 4s 13ms/step - loss: nan - accuracy: 0.0100 - val_loss: nan - val_accuracy: 0.0103\n",
      "Epoch 7/100\n",
      "313/313 [==============================] - 4s 13ms/step - loss: nan - accuracy: 0.0093 - val_loss: nan - val_accuracy: 0.0103\n",
      "Epoch 8/100\n",
      "313/313 [==============================] - 4s 12ms/step - loss: nan - accuracy: 0.0106 - val_loss: nan - val_accuracy: 0.0103\n",
      "Epoch 9/100\n",
      "313/313 [==============================] - 4s 12ms/step - loss: nan - accuracy: 0.0100 - val_loss: nan - val_accuracy: 0.0103\n",
      "Epoch 10/100\n",
      "313/313 [==============================] - 4s 13ms/step - loss: nan - accuracy: 0.0095 - val_loss: nan - val_accuracy: 0.0103\n"
     ]
    },
    {
     "data": {
      "text/plain": [
       "<tensorflow.python.keras.callbacks.History at 0x1ca156961c0>"
      ]
     },
     "execution_count": 9,
     "metadata": {},
     "output_type": "execute_result"
    }
   ],
   "source": [
    "adapted_model = Sequential([\n",
    "    Input(shape=input_shape),\n",
    "    Dense(512, activation='relu'),\n",
    "    Dense(256, activation='relu'),\n",
    "    Dense(128, activation='relu'),\n",
    "    Dense(100, activation='softmax')\n",
    "],name='adapted' )\n",
    "\n",
    "adapted_model.compile(\n",
    "    optimizer=Adam(lr=1e-4),             \n",
    "    loss=SparseCategoricalCrossentropy(from_logits=True),\n",
    "    metrics=['accuracy']\n",
    ")\n",
    "\n",
    "adapted_model.summary()\n",
    "\n",
    "adapted_model.fit(\n",
    "    x=cifar100_adapted, \n",
    "    y=train_labels, \n",
    "    batch_size=batch_size, \n",
    "    epochs=epochs,\n",
    ")"
   ]
  },
  {
   "cell_type": "code",
   "execution_count": 10,
   "metadata": {},
   "outputs": [
    {
     "data": {
      "image/png": "[encoded data removed]",
      "text/plain": [
       "<Figure size 432x288 with 1 Axes>"
      ]
     },
     "metadata": {
      "needs_background": "light"
     },
     "output_type": "display_data"
    },
    {
     "data": {
      "image/png": "[encoded data removed]",
      "text/plain": [
       "<Figure size 432x288 with 1 Axes>"
      ]
     },
     "metadata": {
      "needs_background": "light"
     },
     "output_type": "display_data"
    }
   ],
   "source": [
    "def plot(models, metric):\n",
    "    for model in models:\n",
    "        plt.plot(model.history.history['loss'], label=f'{model.name}')\n",
    "        #plt.plot(model.history.history['val_loss'], label='val_loss', color='red')\n",
    "    plt.legend()\n",
    "    plt.title(f'{model_name} training loss')\n",
    "    #plt.savefig(f'./plots/{model_name}/loss.png')\n",
    "    plt.show()\n",
    "   \n",
    "\n",
    "    for model in models:\n",
    "        plt.plot(model.history.history[f'{metric}'], label=f'{model.name}')\n",
    "       # plt.plot(model.history.history[f'val_{metric}'], label=f'val_{metric}', color='red')\n",
    "    plt.legend()\n",
    "    plt.title(f'{model_name} training accuracy')\n",
    "    #plt.savefig(f'./plots/{model_name}/accuracy.png')\n",
    "    plt.show()\n",
    "\n",
    "        \n",
    "models = [model, vanilla_model, injected_model, adapted_model]\n",
    "plot(models, 'accuracy')"
   ]
  },
  {
   "cell_type": "code",
   "execution_count": null,
   "metadata": {},
   "outputs": [],
   "source": []
  }
 ],
 "metadata": {
  "kernelspec": {
   "display_name": "Python 3",
   "language": "python",
   "name": "python3"
  },
  "language_info": {
   "codemirror_mode": {
    "name": "ipython",
    "version": 3
   },
   "file_extension": ".py",
   "mimetype": "text/x-python",
   "name": "python",
   "nbconvert_exporter": "python",
   "pygments_lexer": "ipython3",
   "version": "3.8.5"
  }
 },
 "nbformat": 4,
 "nbformat_minor": 2
}
