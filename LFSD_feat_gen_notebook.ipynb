{
 "cells": [
  {
   "cell_type": "code",
   "execution_count": 1,
   "metadata": {},
   "outputs": [
    {
     "name": "stdout",
     "output_type": "stream",
     "text": [
      "gpu: 1\n"
     ]
    }
   ],
   "source": [
    "import tensorflow as tf\n",
    "import numpy as np\n",
    "from tensorflow.keras.applications import InceptionV3, VGG16, MobileNetV2, ResNet101, EfficientNetB1\n",
    "from tqdm import tqdm\n",
    "print(f\"gpu: { len(tf.config.list_physical_devices('GPU')) }\")\n",
    "gpus = tf.config.experimental.list_physical_devices('GPU')\n",
    "for gpu in gpus: \n",
    "    tf.config.experimental.set_memory_growth(gpu, True)"
   ]
  },
  {
   "cell_type": "code",
   "execution_count": 10,
   "metadata": {},
   "outputs": [],
   "source": [
    "def gen_feat_with_model(model_name, imgs, depths):\n",
    "     with tf.device('/cpu:0'):\n",
    "        if model_name == 'inception':\n",
    "            depths = tf.keras.applications.inception_v3.preprocess_input(depths)\n",
    "            imgs = tf.keras.applications.inception_v3.preprocess_input(imgs)\n",
    "            # Min input size for inceptionnet is 75\n",
    "            model = InceptionV3(\n",
    "                include_top=False,\n",
    "                weights=\"imagenet\",\n",
    "                input_shape=(256, 256, 3),\n",
    "                pooling='max'\n",
    "            )\n",
    "        elif model_name == 'vgg':\n",
    "            with tf.device('/cpu:0'):\n",
    "                depths = tf.keras.applications.vgg16.preprocess_input(depths)\n",
    "                imgs = tf.keras.applications.vgg16.preprocess_input(imgs)\n",
    "            model = VGG16(\n",
    "                include_top=False,\n",
    "                weights=\"imagenet\",\n",
    "                input_shape=(256, 256, 3),\n",
    "                pooling='max'\n",
    "            )\n",
    "        elif model_name == 'mobilenet':\n",
    "            depths = tf.keras.applications.mobilenet_v2.preprocess_input(depths)\n",
    "            imgs = tf.keras.applications.mobilenet_v2.preprocess_input(imgs)\n",
    "            \n",
    "            depths = tf.image.resize(depths, (224, 224))\n",
    "            imgs = tf.image.resize(imgs, (224, 224))\n",
    "            \n",
    "            model = MobileNetV2(\n",
    "                include_top=False,\n",
    "                weights=\"imagenet\",\n",
    "                input_shape=(224, 224, 3),\n",
    "                pooling='max'\n",
    "            )\n",
    "        elif model_name == 'resnet':\n",
    "            depths = tf.keras.applications.resnet.preprocess_input(depths)\n",
    "            imgs = tf.keras.applications.resnet.preprocess_input(imgs)\n",
    "            model = ResNet101(\n",
    "                include_top=False,\n",
    "                weights=\"imagenet\",\n",
    "                input_shape=(256, 256, 3),\n",
    "                pooling='max'\n",
    "            )\n",
    "        elif model_name == 'efficientnet':\n",
    "            depths = tf.keras.applications.efficientnet.preprocess_input(depths)\n",
    "            imgs = tf.keras.applications.efficientnet.preprocess_input(imgs)\n",
    "            model = EfficientNetB1(\n",
    "                include_top=False,\n",
    "                weights=\"imagenet\",\n",
    "                input_shape=(256, 256, 3),\n",
    "                pooling='max'\n",
    "            )\n",
    "        else:\n",
    "            print('Invalid model name')\n",
    "            return\n",
    "\n",
    "        model.trainable = False\n",
    "\n",
    "        print('Forwarding...')\n",
    "        \n",
    "        img_result = model(imgs).numpy()\n",
    "            \n",
    "        depth_result = model(depths).numpy()\n",
    "            \n",
    "        print(f\"Img and depths feature shapes are: {img_result.shape} and {depth_result.shape}\")\n",
    "        print(\"Saving...\")\n",
    "        np.save('./data/LFSD_imgs_%s_feat.npy' % model_name, img_result)\n",
    "        np.save('./data/LFSD_depths_repeated_%s_feat.npy' % model_name, depth_result)\n",
    "        print('Done')"
   ]
  },
  {
   "cell_type": "code",
   "execution_count": 11,
   "metadata": {},
   "outputs": [
    {
     "name": "stdout",
     "output_type": "stream",
     "text": [
      "Generating LFSD feature for mobilenet\n",
      "Forwarding...\n",
      "Img and depths feature shapes are: (845, 1280) and (845, 1280)\n",
      "Saving...\n",
      "Done\n",
      "Generating LFSD feature for inception\n",
      "Forwarding...\n",
      "Img and depths feature shapes are: (845, 2048) and (845, 2048)\n",
      "Saving...\n",
      "Done\n",
      "Generating LFSD feature for resnet\n",
      "Forwarding...\n",
      "Img and depths feature shapes are: (845, 2048) and (845, 2048)\n",
      "Saving...\n",
      "Done\n",
      "Generating LFSD feature for efficientnet\n",
      "Forwarding...\n",
      "Img and depths feature shapes are: (845, 1280) and (845, 1280)\n",
      "Saving...\n",
      "Done\n",
      "Generating LFSD feature for vgg\n",
      "Forwarding...\n",
      "Img and depths feature shapes are: (845, 512) and (845, 512)\n",
      "Saving...\n",
      "Done\n"
     ]
    }
   ],
   "source": [
    "depths = np.load('./data/LFSD_depths_repeated.npy')\n",
    "imgs = np.load('./data/LFSD_imgs.npy')\n",
    "for model_name in ['mobilenet', 'inception', 'resnet', 'efficientnet', 'vgg']:\n",
    "    print(\"Generating LFSD feature for %s\" % model_name)\n",
    "    gen_feat_with_model(model_name, imgs, depths)\n"
   ]
  },
  {
   "cell_type": "code",
   "execution_count": null,
   "metadata": {},
   "outputs": [],
   "source": []
  }
 ],
 "metadata": {
  "kernelspec": {
   "display_name": "Python 3",
   "language": "python",
   "name": "python3"
  },
  "language_info": {
   "codemirror_mode": {
    "name": "ipython",
    "version": 3
   },
   "file_extension": ".py",
   "mimetype": "text/x-python",
   "name": "python",
   "nbconvert_exporter": "python",
   "pygments_lexer": "ipython3",
   "version": "3.8.5"
  }
 },
 "nbformat": 4,
 "nbformat_minor": 4
}
