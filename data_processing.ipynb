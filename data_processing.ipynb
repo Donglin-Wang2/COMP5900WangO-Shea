{
 "metadata": {
  "language_info": {
   "codemirror_mode": {
    "name": "ipython",
    "version": 3
   },
   "file_extension": ".py",
   "mimetype": "text/x-python",
   "name": "python",
   "nbconvert_exporter": "python",
   "pygments_lexer": "ipython3",
   "version": "3.7.8-final"
  },
  "orig_nbformat": 2,
  "kernelspec": {
   "name": "python3",
   "display_name": "Python 3.7.8 64-bit ('comp5900porj': venv)",
   "metadata": {
    "interpreter": {
     "hash": "8608f3369e1b7fe199f3056150d4f7c6c375e24eac93172fa646af6324355164"
    }
   }
  }
 },
 "nbformat": 4,
 "nbformat_minor": 2,
 "cells": [
  {
   "cell_type": "code",
   "execution_count": null,
   "metadata": {},
   "outputs": [],
   "source": [
    "from PIL import Image\n",
    "import numpy as np\n",
    "import os\n",
    "import tensorflow as tf\n",
    "\n",
    "imgs = []\n",
    "labels = []\n",
    "depths_single = []\n",
    "depths_multi = []\n",
    "depths_repeated = []\n",
    "masks_single = []\n",
    "masks_multi = []\n",
    "masks_repeated = []\n",
    "\n",
    "def normalize(arr):\n",
    "    return arr / 255\n",
    "\n",
    "for filename in os.listdir('./LFSD/focus_stack/'):\n",
    "    img = Image.open('./LFSD/focus_stack/' + filename).resize((256, 256))\n",
    "    arr = np.array(img)\n",
    "    arr = normalize(arr)\n",
    "    imgs.append(arr)\n",
    "    labels.append(int(filename.split('_')[0]) - 1)\n",
    "\n",
    "for i in range(1, 101):\n",
    "    mask_single = normalize(np.array(Image.open('./LFSD/ground_truth/%d.png' % i).convert('L').resize((256, 256))))\n",
    "    mask_single = np.expand_dims(mask_single, axis=2)\n",
    "    masks_single.append(mask_single)\n",
    "    \n",
    "\n",
    "    depth_repeat = normalize(np.array(Image.open('./LFSD/depth_map/%d.bmp'%i).resize((256, 256))))\n",
    "    depth_repeat = np.expand_dims(depth_repeat, axis=2)\n",
    "    depth_repeat = np.repeat(depth_repeat, 3, axis=2)\n",
    "    depths_repeated.append(depth_repeat)\n",
    "\n",
    "    \n",
    "\n",
    "np.save('./data/LFSD_imgs',np.array(imgs))\n",
    "np.save('./data/LFSD_labels',np.array(labels))\n",
    "np.save('./data/LFSD_depths_repeated',np.array(depths_repeated)[labels])\n",
    "np.save('./data/LFSD_masks_single',np.array(masks_single)[labels])"
   ]
  },
  {
   "cell_type": "code",
   "execution_count": null,
   "metadata": {},
   "outputs": [],
   "source": []
  }
 ]
}